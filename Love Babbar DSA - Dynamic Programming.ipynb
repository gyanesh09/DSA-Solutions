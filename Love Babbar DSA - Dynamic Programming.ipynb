{
 "cells": [
  {
   "cell_type": "code",
   "execution_count": 27,
   "metadata": {},
   "outputs": [
    {
     "name": "stdout",
     "output_type": "stream",
     "text": [
      "3\n",
      "2 1\n",
      "1 1\n",
      "[[0, 0, 0, 0], [0, 0, 1, 1], [0, 1, 2, 3]]\n"
     ]
    }
   ],
   "source": [
    "# Coin ChangeProblem\n",
    "# https://www.youtube.com/watch?v=l_nR5X9VmaI\n",
    "\n",
    "coins=list(map(int,input().split()))\n",
    "tgt=int(input())\n",
    "dp=[0 for i in range(tgt+1)]\n",
    "dp[0]=1\n",
    "for i in range(len(coins)):\n",
    "    for j in range(coins[i],len(dp)):\n",
    "        dp[j]+=dp[j-coins[i]]\n",
    "print(dp)"
   ]
  },
  {
   "cell_type": "code",
   "execution_count": 11,
   "metadata": {},
   "outputs": [],
   "source": [
    "# Knapsack Problem (0-1 Bounded Knapsack)\n",
    "\n",
    "capacity=int(input())\n",
    "weights=list(map(int,input().split()))\n",
    "value=list(map(int,input().split()))\n",
    "dp=[]\n",
    "for i in range(len(weights)+1):\n",
    "    temp=[]\n",
    "    for j in range(capacity+1):\n",
    "        temp.append(0)\n",
    "    dp.append(temp)\n",
    "\n",
    "for i in range(1,len(dp)):\n",
    "    for j in range(1,len(dp[i])):\n",
    "        if j>=weights[i-1]:\n",
    "            dp[i][j]=max(dp[i-1][j],value[i-1]+dp[i-1][j-weights[i-1]])\n",
    "        else:\n",
    "            dp[i][j]=dp[i-1][j]\n",
    "print(dp[-1][-1])"
   ]
  },
  {
   "cell_type": "code",
   "execution_count": 31,
   "metadata": {},
   "outputs": [
    {
     "name": "stdout",
     "output_type": "stream",
     "text": [
      "100\n",
      "5 10 15\n",
      "10 30 20\n",
      "[0, 0, 0, 0, 0, 10, 10, 10, 10, 10, 30, 30, 30, 30, 30, 40, 40, 40, 40, 40, 60, 60, 60, 60, 60, 70, 70, 70, 70, 70, 90, 90, 90, 90, 90, 100, 100, 100, 100, 100, 120, 120, 120, 120, 120, 130, 130, 130, 130, 130, 150, 150, 150, 150, 150, 160, 160, 160, 160, 160, 180, 180, 180, 180, 180, 190, 190, 190, 190, 190, 210, 210, 210, 210, 210, 220, 220, 220, 220, 220, 240, 240, 240, 240, 240, 250, 250, 250, 250, 250, 270, 270, 270, 270, 270, 280, 280, 280, 280, 280, 300]\n"
     ]
    }
   ],
   "source": [
    "# Unbounded Knapsack (Repetition of items allowed)\n",
    "\n",
    "capacity=int(input())\n",
    "weights=list(map(int,input().split()))\n",
    "value=list(map(int,input().split()))\n",
    "dp=[0 for i in range(capacity+1)]\n",
    "for i in range(len(weights)):\n",
    "    for j in range(weights[i],len(dp)):\n",
    "        dp[j]=max(dp[j],dp[j-weights[i]]+value[i])\n",
    "print(dp)"
   ]
  },
  {
   "cell_type": "markdown",
   "metadata": {},
   "source": [
    "# NOTES\n",
    "\n",
    "## Pattern 1 -  Without Duplicacy i.e participant cannot be repeated (Needs 2D array)\n",
    "### Target Sum Subset Problem\n",
    "### Bounded 0-1 Knapsack Problem\n",
    "\n",
    "## Pattern 2 - With Duplicacy i.e participant can be repeated (Possible with 1D array)\n",
    "### Coin Change Problem\n",
    "### Unbounded Knapsack Problem\n",
    "\n",
    "\n",
    "<!-- Coin Change Problem -> Total number of ways to generate tgt coin sum (we need combinations here not permutations)\n",
    "                            -> For combinations always keep upper loop on coin weights(sikke) other wise it will lead \n",
    "                               to same combinations with different permutations which will result in higher ans -->\n",
    "                    \n",
    "<!--                     -> Minimum number of coins required to generate the coin sum\n",
    "                            -> For generating all permutations keep upper loop on all possible sum possible (0..n) \n",
    "                               where n is tgt coin sum. For each possible sum do a inner loop with all coin changes avbl.  -->\n",
    "                     "
   ]
  }
 ],
 "metadata": {
  "kernelspec": {
   "display_name": "Python 3",
   "language": "python",
   "name": "python3"
  },
  "language_info": {
   "codemirror_mode": {
    "name": "ipython",
    "version": 3
   },
   "file_extension": ".py",
   "mimetype": "text/x-python",
   "name": "python",
   "nbconvert_exporter": "python",
   "pygments_lexer": "ipython3",
   "version": "3.7.4"
  }
 },
 "nbformat": 4,
 "nbformat_minor": 4
}
