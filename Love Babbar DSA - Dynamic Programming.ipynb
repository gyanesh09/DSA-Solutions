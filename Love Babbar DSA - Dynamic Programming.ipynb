{
 "cells": [
  {
   "cell_type": "markdown",
   "metadata": {},
   "source": [
    "#NOTES\n",
    "\n",
    "## Pattern 1 -  Without Duplicacy i.e participant cannot be repeated (Needs 2D array)\n",
    "### Target Sum Subset Problem\n",
    "### Bounded 0-1 Knapsack Problem\n",
    "\n",
    "## Pattern 2 - With Duplicacy i.e participant can be repeated (Possible with 1D array)\n",
    "### Coin Change Problem\n",
    "### Unbounded Knapsack Problem\n",
    "\n",
    "\n",
    "<!-- Coin Change Problem -> Total number of ways to generate tgt coin sum (we need combinations here not permutations)\n",
    "                            -> For combinations always keep upper loop on coin weights(sikke) other wise it will lead \n",
    "                               to same combinations with different permutations which will result in higher ans -->\n",
    "                    \n",
    "<!--                     -> Minimum number of coins required to generate the coin sum\n",
    "                            -> For generating all permutations keep upper loop on all possible sum possible (0..n) \n",
    "                               where n is tgt coin sum. For each possible sum do a inner loop with all coin changes avbl.  -->\n",
    "                               \n",
    "<!-- Edit Distance problem  ->  mein 2D DP array bnega and then for every cell we will compare current chrs of 2 string agr equal hue to distance nhi bdaenge aur same assign krdenge jo dp[i-1][j-1] m tha, ulte case m min nikalenge upr,left aur diag ka fir +1 krdena\n",
    " -->\n",
    "\n",
    "<!-- LCS Problem -> Hr char k pas 2 opt h include ya exclude, agr curr char match nhi hore to drop krke dekho dono m s 1 1 bar jisko drop krne s LCS ki value kam ho use drop nhi krna h islie max lenge dp[i-1][j] aur dp[i][j-1] ka -->"
   ]
  },
  {
   "cell_type": "code",
   "execution_count": 27,
   "metadata": {},
   "outputs": [
    {
     "name": "stdout",
     "output_type": "stream",
     "text": [
      "3\n",
      "2 1\n",
      "1 1\n",
      "[[0, 0, 0, 0], [0, 0, 1, 1], [0, 1, 2, 3]]\n"
     ]
    }
   ],
   "source": [
    "# Coin ChangeProblem\n",
    "# https://www.youtube.com/watch?v=l_nR5X9VmaI\n",
    "\n",
    "coins=list(map(int,input().split()))\n",
    "tgt=int(input())\n",
    "dp=[0 for i in range(tgt+1)]\n",
    "dp[0]=1\n",
    "for i in range(len(coins)):\n",
    "    for j in range(coins[i],len(dp)):\n",
    "        dp[j]+=dp[j-coins[i]]\n",
    "print(dp)"
   ]
  },
  {
   "cell_type": "code",
   "execution_count": 11,
   "metadata": {},
   "outputs": [],
   "source": [
    "# Knapsack Problem (0-1 Bounded Knapsack)\n",
    "\n",
    "capacity=int(input())\n",
    "weights=list(map(int,input().split()))\n",
    "value=list(map(int,input().split()))\n",
    "dp=[]\n",
    "for i in range(len(weights)+1):\n",
    "    temp=[]\n",
    "    for j in range(capacity+1):\n",
    "        temp.append(0)\n",
    "    dp.append(temp)\n",
    "\n",
    "for i in range(1,len(dp)):\n",
    "    for j in range(1,len(dp[i])):\n",
    "        if j>=weights[i-1]:\n",
    "            dp[i][j]=max(dp[i-1][j],value[i-1]+dp[i-1][j-weights[i-1]])\n",
    "        else:\n",
    "            dp[i][j]=dp[i-1][j]\n",
    "print(dp[-1][-1])"
   ]
  },
  {
   "cell_type": "code",
   "execution_count": 31,
   "metadata": {},
   "outputs": [
    {
     "name": "stdout",
     "output_type": "stream",
     "text": [
      "100\n",
      "5 10 15\n",
      "10 30 20\n",
      "[0, 0, 0, 0, 0, 10, 10, 10, 10, 10, 30, 30, 30, 30, 30, 40, 40, 40, 40, 40, 60, 60, 60, 60, 60, 70, 70, 70, 70, 70, 90, 90, 90, 90, 90, 100, 100, 100, 100, 100, 120, 120, 120, 120, 120, 130, 130, 130, 130, 130, 150, 150, 150, 150, 150, 160, 160, 160, 160, 160, 180, 180, 180, 180, 180, 190, 190, 190, 190, 190, 210, 210, 210, 210, 210, 220, 220, 220, 220, 220, 240, 240, 240, 240, 240, 250, 250, 250, 250, 250, 270, 270, 270, 270, 270, 280, 280, 280, 280, 280, 300]\n"
     ]
    }
   ],
   "source": [
    "# Unbounded Knapsack (Repetition of items allowed)\n",
    "\n",
    "capacity=int(input())\n",
    "weights=list(map(int,input().split()))\n",
    "value=list(map(int,input().split()))\n",
    "dp=[0 for i in range(capacity+1)]\n",
    "for i in range(len(weights)):\n",
    "    for j in range(weights[i],len(dp)):\n",
    "        dp[j]=max(dp[j],dp[j-weights[i]]+value[i])\n",
    "print(dp)"
   ]
  },
  {
   "cell_type": "code",
   "execution_count": 35,
   "metadata": {},
   "outputs": [
    {
     "name": "stdout",
     "output_type": "stream",
     "text": [
      "10\n",
      "4 2 7 1 3\n",
      "[[1, 0, 0, 0, 0, 0, 0, 0, 0, 0, 0], [1, 0, 0, 0, 1, 0, 0, 0, 0, 0, 0], [1, 0, 1, 0, 1, 0, 1, 0, 0, 0, 0], [1, 0, 1, 0, 1, 0, 1, 1, 0, 1, 0], [1, 1, 1, 1, 1, 1, 1, 1, 1, 1, 1], [1, 1, 1, 1, 1, 1, 1, 1, 1, 1, 1]]\n"
     ]
    }
   ],
   "source": [
    "# Subset Sum Problem (target sum subset)\n",
    "\n",
    "sum_req=int(input())\n",
    "set_nos=list(map(int,input().split()))\n",
    "dp=[]\n",
    "for i in range(len(set_nos)+1):\n",
    "    temp=[]\n",
    "    for j in range(sum_req+1):\n",
    "        if j==0:\n",
    "            temp.append(1)\n",
    "        else:\n",
    "            temp.append(0)\n",
    "    dp.append(temp)\n",
    "\n",
    "for i in range(1,len(dp)):\n",
    "    for j in range(1,len(dp[i])):\n",
    "        if j>=set_nos[i-1]:\n",
    "            if dp[i-1][j]==1:\n",
    "                dp[i][j]=1\n",
    "            elif j==set_nos[i-1]:\n",
    "                dp[i][j]=1\n",
    "            elif dp[i-1][j-set_nos[i-1]]==1:\n",
    "                dp[i][j]=1\n",
    "            else:\n",
    "                dp[i][j]=0\n",
    "                \n",
    "        else:\n",
    "            dp[i][j]=dp[i-1][j]\n",
    "print(dp)"
   ]
  },
  {
   "cell_type": "code",
   "execution_count": 44,
   "metadata": {},
   "outputs": [
    {
     "name": "stdout",
     "output_type": "stream",
     "text": [
      "15\n",
      "3\n",
      "[1, 15, 105, 455]\n"
     ]
    }
   ],
   "source": [
    "# Binomial CoefficientProblem\n",
    "# https://www.youtube.com/watch?v=jIb1W3ObIho (Pascal triangle trick form hoti h starting with 0c0 ending till nCr)\n",
    "# 1\n",
    "# 11\n",
    "# 121\n",
    "# 1331\n",
    "\n",
    "n=int(input())\n",
    "r=int(input())\n",
    "dp=[0 for i in range(r+1)]\n",
    "dp[0]=1\n",
    "for i in range(1,n+1):\n",
    "    for j in range(r,0,-1):\n",
    "        dp[j]=dp[j]+dp[j-1]\n",
    "print(dp)"
   ]
  },
  {
   "cell_type": "code",
   "execution_count": 48,
   "metadata": {},
   "outputs": [
    {
     "name": "stdout",
     "output_type": "stream",
     "text": [
      "5\n",
      "2\n",
      "[1, 1, 2, 6, 24, 120]\n",
      "60\n"
     ]
    }
   ],
   "source": [
    "# Permutation CoefficientProblem\n",
    "# O(n) extra space\n",
    "\n",
    "n=int(input())\n",
    "r=int(input())\n",
    "dp=[0 for i in range(n+1)]\n",
    "dp[0]=1\n",
    "for i in range(1,n+1):\n",
    "    dp[i]=i*dp[i-1]\n",
    "print(dp)\n",
    "print(dp[n]//dp[n-r-1])"
   ]
  },
  {
   "cell_type": "code",
   "execution_count": 52,
   "metadata": {},
   "outputs": [
    {
     "name": "stdout",
     "output_type": "stream",
     "text": [
      "5\n",
      "3\n",
      "120\n"
     ]
    }
   ],
   "source": [
    "# Permutation CoefficientProblem\n",
    "# O(1) extra space\n",
    "\n",
    "n=int(input())\n",
    "r=int(input())\n",
    "ans=1\n",
    "for i in range(n,n-r-1,-1):\n",
    "    ans*=i\n",
    "print(ans)"
   ]
  },
  {
   "cell_type": "code",
   "execution_count": 53,
   "metadata": {},
   "outputs": [
    {
     "name": "stdout",
     "output_type": "stream",
     "text": [
      "8\n",
      "[1, 1, 2, 5, 14, 42, 132, 429, 1430]\n"
     ]
    }
   ],
   "source": [
    "# Program for nth Catalan Number (O(n2))\n",
    " \n",
    "n=int(input())\n",
    "dp=[0 for i in range(n+1)]\n",
    "dp[0]=1\n",
    "dp[1]=1\n",
    "\n",
    "for i in range(2,n+1):\n",
    "    ans=0\n",
    "    left=0\n",
    "    right=i-1\n",
    "    while(left<=i-1):\n",
    "        ans+=(dp[left]*dp[right])\n",
    "        left+=1\n",
    "        right-=1\n",
    "    dp[i]=ans\n",
    "print(dp)"
   ]
  },
  {
   "cell_type": "code",
   "execution_count": 69,
   "metadata": {},
   "outputs": [
    {
     "name": "stdout",
     "output_type": "stream",
     "text": [
      "geek\n",
      "gesek\n",
      "0 1 2 3 4 5 \n",
      "1 0 1 2 3 4 \n",
      "2 1 0 1 2 3 \n",
      "3 2 1 1 1 2 \n",
      "4 3 2 2 2 1 \n"
     ]
    }
   ],
   "source": [
    "# Edit Distance (Tricky Ques)\n",
    "\n",
    "def printTable(dp):\n",
    "    for i in range(len(dp)):\n",
    "        for j in range(len(dp[i])):\n",
    "            print(dp[i][j],end=\" \")\n",
    "        print()\n",
    "\n",
    "s=input()\n",
    "t=input()\n",
    "\n",
    "dp=[]\n",
    "for i in range(len(s)+1):\n",
    "    temp=[]\n",
    "    for j in range(len(t)+1):\n",
    "        if j==0:\n",
    "            temp.append(i)\n",
    "        elif i==0:\n",
    "            temp.append(j)\n",
    "        else:\n",
    "            temp.append(0)\n",
    "    dp.append(temp)\n",
    "\n",
    "for i in range(1,len(dp)):\n",
    "    for j in range(1,len(dp[i])):\n",
    "        if s[i-1]==t[j-1]:\n",
    "            dp[i][j]=dp[i-1][j-1]\n",
    "        else:\n",
    "            dp[i][j]=1+min(dp[i-1][j],dp[i-1][j-1],dp[i][j-1])\n",
    "printTable(dp[-1][-1])"
   ]
  },
  {
   "cell_type": "code",
   "execution_count": 18,
   "metadata": {},
   "outputs": [
    {
     "name": "stdout",
     "output_type": "stream",
     "text": [
      "2\n",
      "1\n",
      "4\n",
      "4\n"
     ]
    }
   ],
   "source": [
    "# Gold Mine Problem\n",
    "\n",
    "n=int(input())\n",
    "matrix=[]\n",
    "for i in range(n):\n",
    "    matrix.append(list(map(int,input().split())))\n",
    "rows=len(matrix)\n",
    "cols=len(matrix[0])\n",
    "\n",
    "\n",
    "dp=[[0 for i in range(cols)] for j in range(rows)]\n",
    "\n",
    "for j in range(len(matrix[0])-1,-1,-1):\n",
    "    for i in range(len(matrix)):\n",
    "#         print(matrix[i][j])\n",
    "        if j==len(matrix[i])-1:\n",
    "            dp[i][j]=matrix[i][j]\n",
    "        else:\n",
    "            if i==0:\n",
    "                dp[i][j]=matrix[i][j]+max(dp[i][j+1],dp[i+1][j+1])\n",
    "            elif i==len(dp)-1:\n",
    "                dp[i][j]=matrix[i][j]+max(dp[i][j+1],dp[i-1][j+1])\n",
    "            else:\n",
    "                dp[i][j]=matrix[i][j]+max(dp[i][j+1],dp[i-1][j+1],dp[i+1][j+1])\n",
    "ans=-111111111\n",
    "for i in range(len(dp)):\n",
    "    if dp[i][0]>ans:\n",
    "        ans=dp[i][0]\n",
    "# print(matrix)\n",
    "# print(dp)\n",
    "print(ans)"
   ]
  },
  {
   "cell_type": "code",
   "execution_count": 22,
   "metadata": {},
   "outputs": [
    {
     "name": "stdout",
     "output_type": "stream",
     "text": [
      "3\n",
      "3\n",
      "24\n"
     ]
    }
   ],
   "source": [
    "# Painting the Fenceproblem\n",
    "\n",
    "fences=int(input())\n",
    "paints=int(input())\n",
    "\n",
    "# base setting for 2 fences\n",
    "same=paints*1\n",
    "diff=paints*(paints-1)\n",
    "total=same+diff\n",
    "\n",
    "for i in range(3,fences+1):\n",
    "    same=diff\n",
    "    diff=total*(paints-1)\n",
    "    total=diff+same\n",
    "print(total)"
   ]
  },
  {
   "cell_type": "code",
   "execution_count": 30,
   "metadata": {},
   "outputs": [
    {
     "name": "stdout",
     "output_type": "stream",
     "text": [
      "ABCD\n",
      "ABC\n",
      "[[0, 0, 0, 0], [0, 0, 0, 0], [0, 0, 0, 0], [0, 0, 0, 0], [0, 0, 0, 0]]\n",
      "[[0, 0, 0, 0], [0, 1, 1, 1], [0, 0, 0, 0], [0, 0, 0, 0], [0, 0, 0, 0]]\n",
      "[[0, 0, 0, 0], [0, 1, 1, 1], [0, 1, 2, 2], [0, 0, 0, 0], [0, 0, 0, 0]]\n",
      "[[0, 0, 0, 0], [0, 1, 1, 1], [0, 1, 2, 2], [0, 1, 2, 3], [0, 0, 0, 0]]\n",
      "[[0, 0, 0, 0], [0, 1, 1, 1], [0, 1, 2, 2], [0, 1, 2, 3], [0, 1, 2, 3]]\n",
      "3\n"
     ]
    }
   ],
   "source": [
    "# Longest Common Subsequence\n",
    "\n",
    "s1=input()\n",
    "s2=input()\n",
    "dp=[]\n",
    "for i in range(len(s1)+1):\n",
    "    temp=[]\n",
    "    for j in range(len(s2)+1):\n",
    "        temp.append(0)\n",
    "    dp.append(temp)\n",
    "\n",
    "for i in range(1,len(dp)):\n",
    "    for j in range(1,len(dp[i])):\n",
    "        if s1[i-1]==s2[j-1]:\n",
    "            dp[i][j]=1+dp[i-1][j-1]\n",
    "        else:\n",
    "            dp[i][j]=max(dp[i-1][j],dp[i][j-1])\n",
    "\n",
    "print(dp[-1][-1])"
   ]
  },
  {
   "cell_type": "code",
   "execution_count": null,
   "metadata": {},
   "outputs": [],
   "source": []
  }
 ],
 "metadata": {
  "kernelspec": {
   "display_name": "Python 3",
   "language": "python",
   "name": "python3"
  },
  "language_info": {
   "codemirror_mode": {
    "name": "ipython",
    "version": 3
   },
   "file_extension": ".py",
   "mimetype": "text/x-python",
   "name": "python",
   "nbconvert_exporter": "python",
   "pygments_lexer": "ipython3",
   "version": "3.7.4"
  }
 },
 "nbformat": 4,
 "nbformat_minor": 4
}
