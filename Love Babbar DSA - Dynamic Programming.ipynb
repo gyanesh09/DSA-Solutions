{
 "cells": [
  {
   "cell_type": "code",
   "execution_count": 2,
   "metadata": {},
   "outputs": [
    {
     "name": "stdout",
     "output_type": "stream",
     "text": [
      "2 5 3 6\n",
      "10\n",
      "[1, 0, 1, 1, 1, 2, 3, 2, 4, 4, 5]\n"
     ]
    }
   ],
   "source": [
    "# Coin ChangeProblem\n",
    "# https://www.youtube.com/watch?v=l_nR5X9VmaI\n",
    "\n",
    "coins=list(map(int,input().split()))\n",
    "tgt=int(input())\n",
    "dp=[0 for i in range(tgt+1)]\n",
    "dp[0]=1\n",
    "for i in range(len(coins)):\n",
    "    for j in range(coins[i],len(dp)):\n",
    "        dp[j]+=dp[j-coins[i]]\n",
    "print(dp)\n"
   ]
  },
  {
   "cell_type": "code",
   "execution_count": null,
   "metadata": {},
   "outputs": [],
   "source": []
  }
 ],
 "metadata": {
  "kernelspec": {
   "display_name": "Python 3",
   "language": "python",
   "name": "python3"
  },
  "language_info": {
   "codemirror_mode": {
    "name": "ipython",
    "version": 3
   },
   "file_extension": ".py",
   "mimetype": "text/x-python",
   "name": "python",
   "nbconvert_exporter": "python",
   "pygments_lexer": "ipython3",
   "version": "3.7.4"
  }
 },
 "nbformat": 4,
 "nbformat_minor": 4
}
