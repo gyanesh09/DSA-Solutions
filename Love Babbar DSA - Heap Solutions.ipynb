{
 "cells": [
  {
   "cell_type": "code",
   "execution_count": 39,
   "metadata": {},
   "outputs": [
    {
     "name": "stdout",
     "output_type": "stream",
     "text": [
      "8 5 10 7 9 4 15 12 90 13\n",
      "4\n",
      "[(-10, 2), (-7, 3), (-8, 0), (-5, 1)]\n",
      "[10, 10, 10, 15, 15, 90, 90]\n"
     ]
    }
   ],
   "source": [
    "# Maximum of all subarrays of size k.\n",
    "import heapq\n",
    "\n",
    "nums=list(map(int,input().split()))\n",
    "k=int(input())\n",
    "res = []        \n",
    "heap = []\n",
    "for i in range(k):\n",
    "    heapq.heappush(heap, (-1*nums[i], i))\n",
    "    \n",
    "res.append(-1*heap[0][0])\n",
    "for i in range(1, len(nums)-k+1):\n",
    "    heapq.heappush(heap, (-1*nums[i+k-1], i+k-1))\n",
    "    while heap[0][1] < i:\n",
    "        heapq.heappop(heap)\n",
    "\n",
    "    res.append(-1*heap[0][0])\n",
    "print(res)"
   ]
  },
  {
   "cell_type": "code",
   "execution_count": 43,
   "metadata": {},
   "outputs": [
    {
     "name": "stdout",
     "output_type": "stream",
     "text": [
      "12 5 787 1 23\n",
      "2\n",
      "1\n",
      "5\n"
     ]
    }
   ],
   "source": [
    "# “k” largest element in an array\n",
    "from heapq import heappush, heappop,heapify\n",
    "\n",
    "list1=list(map(int,input().split()))\n",
    "heapify(list1)\n",
    "k=int(input())\n",
    "for i in range(k):\n",
    "    print(heappop(list1))"
   ]
  },
  {
   "cell_type": "code",
   "execution_count": 55,
   "metadata": {},
   "outputs": [
    {
     "name": "stdout",
     "output_type": "stream",
     "text": [
      "12 3 5 7 19\n",
      "4\n",
      "5\n",
      "12\n"
     ]
    }
   ],
   "source": [
    "# Kth smallest and largest element in an unsorted array\n",
    "\n",
    "from heapq import heappush, heappop, heapify\n",
    "\n",
    "list1=list(map(int,input().split()))\n",
    "k=int(input())\n",
    "heapify(list1)\n",
    "temp=0\n",
    "n=len(list1)\n",
    "for i in range(max(k,len(list1)-k+1)):\n",
    "    temp=heappop(list1)\n",
    "    if i==k-1:\n",
    "        print(temp)\n",
    "    if i==(n-k):\n",
    "        print(temp)"
   ]
  },
  {
   "cell_type": "code",
   "execution_count": 10,
   "metadata": {},
   "outputs": [
    {
     "name": "stdout",
     "output_type": "stream",
     "text": [
      "12 3 5 7 19\n",
      "2\n",
      "[3, 12]\n",
      "[12, 19]\n"
     ]
    }
   ],
   "source": [
    "# “k” largest element in an array\n",
    "\n",
    "from heapq import heappush, heappop,heapify\n",
    "\n",
    "list1=list(map(int,input().split()))\n",
    "k=int(input())\n",
    "heap=[]\n",
    "for i in range(k):\n",
    "    heappush(heap,list1[i])\n",
    "    \n",
    "for i in range(k,len(list1)):\n",
    "    if list1[i]>heap[0]:\n",
    "        heappop(heap)\n",
    "        heappush(heap,list1[i])\n",
    "print(heap[0])"
   ]
  },
  {
   "cell_type": "code",
   "execution_count": 1,
   "metadata": {},
   "outputs": [
    {
     "name": "stdout",
     "output_type": "stream",
     "text": [
      "1\n",
      "1\n",
      "\n"
     ]
    }
   ],
   "source": [
    "# Minimum sum of two numbers formed from digits of an array\n",
    "from heapq import heappush,heappop,heapify\n",
    "\n",
    "list1=list(map(int,input().split()))\n",
    "heap=[]\n",
    "for i in list1:\n",
    "    heappush(heap,i)\n",
    "ans1=\"\"\n",
    "ans2=\"\"\n",
    "first=1\n",
    "# print(heap)\n",
    "for i in range(len(heap)):    \n",
    "    if first==1:\n",
    "        ans1+=str(heappop(heap))\n",
    "        first=0\n",
    "    else:\n",
    "        ans2+=str(heappop(heap))\n",
    "        first=1\n",
    "print(ans1)\n",
    "print(ans2)"
   ]
  },
  {
   "cell_type": "code",
   "execution_count": null,
   "metadata": {},
   "outputs": [],
   "source": []
  }
 ],
 "metadata": {
  "kernelspec": {
   "display_name": "Python 3",
   "language": "python",
   "name": "python3"
  },
  "language_info": {
   "codemirror_mode": {
    "name": "ipython",
    "version": 3
   },
   "file_extension": ".py",
   "mimetype": "text/x-python",
   "name": "python",
   "nbconvert_exporter": "python",
   "pygments_lexer": "ipython3",
   "version": "3.7.4"
  }
 },
 "nbformat": 4,
 "nbformat_minor": 4
}
