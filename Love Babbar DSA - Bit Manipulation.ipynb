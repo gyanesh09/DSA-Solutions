{
 "cells": [
  {
   "cell_type": "code",
   "execution_count": 11,
   "metadata": {},
   "outputs": [
    {
     "name": "stdout",
     "output_type": "stream",
     "text": [
      "17\n",
      "2\n"
     ]
    }
   ],
   "source": [
    "# Count set bits in an integer\n",
    "\n",
    "n=int(input())\n",
    "count=0\n",
    "for i in range(32):\n",
    "    if n&(1<<i):\n",
    "        count+=1\n",
    "print(count)"
   ]
  },
  {
   "cell_type": "code",
   "execution_count": 14,
   "metadata": {},
   "outputs": [
    {
     "name": "stdout",
     "output_type": "stream",
     "text": [
      "0\n",
      "0\n"
     ]
    }
   ],
   "source": [
    "# Count set bits in an integer\n",
    "# Brian Approach for logn\n",
    "\n",
    "n=int(input())\n",
    "count=0\n",
    "while(n!=0):\n",
    "    n=n&(n-1)\n",
    "    count+=1\n",
    "print(count)"
   ]
  },
  {
   "cell_type": "code",
   "execution_count": 55,
   "metadata": {},
   "outputs": [
    {
     "name": "stdout",
     "output_type": "stream",
     "text": [
      "1 2 3 2 1 4\n",
      "7\n",
      "3 4\n"
     ]
    }
   ],
   "source": [
    "# Find the two non-repeating elements in an array of repeating elements\n",
    "\n",
    "list1=list(map(int,input().split()))\n",
    "xor=list1[0]\n",
    "#  this will cancel all the duplicates then we'll be left with xor value of 2 unique nos.\n",
    "for i in range(1,len(list1)):\n",
    "    xor=xor^list1[i]\n",
    "print(xor)\n",
    "\n",
    "# get the rightmost set bit\n",
    "right_set=xor&-xor\n",
    "\n",
    "# now here we segregate numbers in 2 bags - with rightmost set bit and with unset bit\n",
    "a,b=0,0\n",
    "for i in range(len(list1)):\n",
    "    if list1[i]&right_set:\n",
    "        a=a^list1[i]\n",
    "    else:\n",
    "        b=b^list1[i]\n",
    "print(a,b)"
   ]
  },
  {
   "cell_type": "code",
   "execution_count": 56,
   "metadata": {},
   "outputs": [
    {
     "name": "stdout",
     "output_type": "stream",
     "text": [
      "10 20\n",
      "4\n"
     ]
    }
   ],
   "source": [
    "# Count number of bits to be flipped to convert A to B\n",
    "\n",
    "a,b=map(int,input().split())\n",
    "temp=a^b\n",
    "\n",
    "count=0\n",
    "for i in range(32):\n",
    "    if temp&(1<<i):\n",
    "        count+=1\n",
    "print(count)\n",
    "\n"
   ]
  },
  {
   "cell_type": "code",
   "execution_count": 3,
   "metadata": {},
   "outputs": [
    {
     "name": "stdout",
     "output_type": "stream",
     "text": [
      "False\n",
      "4\n"
     ]
    }
   ],
   "source": [
    "# Program to find whether a no is power of two\n",
    "# a number is power of 2 if n&n-1==0 (Bitwise AND)\n",
    "def isPowerofTwo1(n):\n",
    "    count=0\n",
    "    for i in range(64):\n",
    "        if n&(1<<i):\n",
    "            count+=1\n",
    "    if count==1:\n",
    "        return True\n",
    "    return False\n",
    "\n",
    "print(isPowerofTwo1(15))\n",
    "\n",
    "def isPowerofTwo2(n):\n",
    "    if n&n-1==0:\n",
    "        count=0\n",
    "        while(n):\n",
    "            n=n>>1\n",
    "            count+=1\n",
    "        return count\n",
    "    else:\n",
    "        return False\n",
    "print(isPowerofTwo2(8))"
   ]
  },
  {
   "cell_type": "code",
   "execution_count": 13,
   "metadata": {},
   "outputs": [
    {
     "name": "stdout",
     "output_type": "stream",
     "text": [
      "aa\n",
      "['a', 'a', 'aa']\n"
     ]
    }
   ],
   "source": [
    "# Power Set\n",
    "\n",
    "s=input()\n",
    "ans=[]\n",
    "for i in range(1,2**len(s)):\n",
    "    temp=bin(i)[2:].zfill(len(s))\n",
    "    subseq=\"\"\n",
    "    for i,j in enumerate(temp):\n",
    "        if j=='1':\n",
    "            subseq+=s[i]\n",
    "    ans.append(subseq)\n",
    "print(ans)"
   ]
  },
  {
   "cell_type": "code",
   "execution_count": 4,
   "metadata": {},
   "outputs": [
    {
     "name": "stdout",
     "output_type": "stream",
     "text": [
      "11\n",
      "121\n"
     ]
    }
   ],
   "source": [
    "# Calculate square of a number without using *, / and pow()\n",
    "# n*n==> n*(101) ==> n*((2**2)+(2**0)) ==> n<<4+n<<1 == ans\n",
    "\n",
    "n=int(input())\n",
    "no=n\n",
    "ans=0\n",
    "pos=0\n",
    "while(n):\n",
    "    if n&1==1:\n",
    "        ans+=no<<pos\n",
    "    pos+=1\n",
    "    n=n>>1\n",
    "print(ans)"
   ]
  },
  {
   "cell_type": "code",
   "execution_count": 8,
   "metadata": {},
   "outputs": [
    {
     "name": "stdout",
     "output_type": "stream",
     "text": [
      "3\n",
      "Modified x is  14\n"
     ]
    }
   ],
   "source": [
    "# Python program to copy set bits in a given\n",
    "# range [l, r] from y to x.\n",
    "\n",
    "# Copy set bits in range [l, r] from y to x.\n",
    "# Note that x is passed by reference and modified\n",
    "# by this function.\n",
    "def copySetBits(x, y, l, r):\n",
    "\n",
    "\t# l and r must be between 1 to 32\n",
    "\tif (l < 1 or r > 32):\n",
    "\t\treturn x;\n",
    "\n",
    "\t# get the length of the mask\n",
    "\tmaskLength = (int) ((1 << (r - l + 1)) - 1);\n",
    "\tprint(maskLength)\n",
    "\t# Shift the mask to the required position\n",
    "\t# \"&\" with y to get the set bits at between\n",
    "\t# l ad r in y\n",
    "\tmask = ((maskLength) << (l - 1)) & y;\n",
    "\tx = x | mask;\n",
    "\treturn x;\n",
    "\n",
    "# Driver code\n",
    "if __name__ == '__main__':\n",
    "\tx = 10;\n",
    "\ty = 13;\n",
    "\tl = 2;\n",
    "\tr = 3;\n",
    "\tx = copySetBits(x, y, l, r);\n",
    "\tprint(\"Modified x is \" , x);\n",
    "\n",
    "# This code is contributed by gauravrajput1\n"
   ]
  },
  {
   "cell_type": "code",
   "execution_count": 2,
   "metadata": {},
   "outputs": [
    {
     "data": {
      "text/plain": [
       "'0b101'"
      ]
     },
     "execution_count": 2,
     "metadata": {},
     "output_type": "execute_result"
    }
   ],
   "source": [
    "bin_d"
   ]
  },
  {
   "cell_type": "code",
   "execution_count": 33,
   "metadata": {},
   "outputs": [
    {
     "ename": "TypeError",
     "evalue": "unsupported operand type(s) for ^: 'str' and 'int'",
     "output_type": "error",
     "traceback": [
      "\u001b[1;31m---------------------------------------------------------------------------\u001b[0m",
      "\u001b[1;31mTypeError\u001b[0m                                 Traceback (most recent call last)",
      "\u001b[1;32m<ipython-input-33-926c5cd46335>\u001b[0m in \u001b[0;36m<module>\u001b[1;34m\u001b[0m\n\u001b[1;32m----> 1\u001b[1;33m \u001b[0mbin_n\u001b[0m\u001b[1;33m^\u001b[0m\u001b[1;36m1\u001b[0m\u001b[1;33m\u001b[0m\u001b[1;33m\u001b[0m\u001b[0m\n\u001b[0m",
      "\u001b[1;31mTypeError\u001b[0m: unsupported operand type(s) for ^: 'str' and 'int'"
     ]
    }
   ],
   "source": [
    "bin_n^1"
   ]
  },
  {
   "cell_type": "code",
   "execution_count": null,
   "metadata": {},
   "outputs": [],
   "source": []
  }
 ],
 "metadata": {
  "kernelspec": {
   "display_name": "Python 3",
   "language": "python",
   "name": "python3"
  },
  "language_info": {
   "codemirror_mode": {
    "name": "ipython",
    "version": 3
   },
   "file_extension": ".py",
   "mimetype": "text/x-python",
   "name": "python",
   "nbconvert_exporter": "python",
   "pygments_lexer": "ipython3",
   "version": "3.7.4"
  }
 },
 "nbformat": 4,
 "nbformat_minor": 4
}
