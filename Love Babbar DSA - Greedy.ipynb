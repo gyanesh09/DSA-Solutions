{
 "cells": [
  {
   "cell_type": "code",
   "execution_count": 3,
   "metadata": {},
   "outputs": [
    {
     "name": "stdout",
     "output_type": "stream",
     "text": [
      "{1: 2, 3: 4, 0: 6, 5: 7, 8: 9}\n",
      "{1: 2, 3: 4, 0: 6, 5: 7, 8: 9}\n",
      "4\n"
     ]
    }
   ],
   "source": [
    "# Activity Selection Problem\n",
    "# sort end time in asc and traverse start time comparing with last end time\n",
    "\n",
    "list1=[1, 3, 0, 5, 8, 5]\n",
    "list2=[2, 4, 6, 7, 9, 9]\n",
    "dict1={}\n",
    "for i in range(len(list1)):\n",
    "    if list1[i] in dict1:\n",
    "        if dict1[list1[i]]>list2[i]:\n",
    "            dict1[list1[i]]=list2[i]\n",
    "    else:\n",
    "        dict1[list1[i]]=list2[i]\n",
    "\n",
    "dict2=dict(sorted(dict1.items(),key=lambda x:x[1]))\n",
    "temp=-1\n",
    "cnt=0\n",
    "for i in dict2.keys():\n",
    "    if i>temp:\n",
    "        cnt+=1\n",
    "        temp=dict2[i]\n",
    "print(cnt)"
   ]
  },
  {
   "cell_type": "code",
   "execution_count": 4,
   "metadata": {},
   "outputs": [
    {
     "name": "stdout",
     "output_type": "stream",
     "text": [
      "{100: [2], 19: [1], 27: [2], 25: [1], 15: [1]}\n",
      "[100, 27, 25, 19, 15]\n",
      "[0, 0]\n",
      "127 2\n"
     ]
    }
   ],
   "source": [
    "# Job Sequencing Problem\n",
    "list1=[100,19,27,25,15]\n",
    "list2=[2,1,2,1,1]\n",
    "dict2={}\n",
    "\n",
    "for i in range(len(list2)):\n",
    "    try:\n",
    "        dict2[list1[i]].append(list2[i])\n",
    "    except:\n",
    "        dict2[list1[i]]=[list2[i]]\n",
    "\n",
    "sorted_dict=sorted(dict2.keys(),reverse=True)\n",
    "\n",
    "ans=0\n",
    "cnt=0\n",
    "avbl_slots=[0 for i in range(max(list2))]\n",
    "\n",
    "for i in sorted_dict:\n",
    "    for j in dict2[i]:\n",
    "        k=j-1\n",
    "        while(k>=0):\n",
    "            if avbl_slots[k]==0:          \n",
    "                ans+=i\n",
    "                cnt+=1\n",
    "                avbl_slots[k]=1\n",
    "                break\n",
    "            k-=1\n",
    "print(ans,cnt)\n",
    "    "
   ]
  },
  {
   "cell_type": "code",
   "execution_count": 1,
   "metadata": {},
   "outputs": [
    {
     "name": "stdout",
     "output_type": "stream",
     "text": [
      "[0, 12, 12, 12, 12, 12, 12, 12, 12, 12, 12, 12]\n",
      "[0, 1, 1, 2, 2, 1, 2, 2, 3, 3, 2, 3]\n",
      "3\n"
     ]
    }
   ],
   "source": [
    "# Greedy Algorithm to find Minimum number of Coins\n",
    "\n",
    "amount =11\n",
    "coins=[1,2,5]\n",
    "dp = [amount+1]*(amount+1)\n",
    "dp[0] = 0\n",
    "print(dp)\n",
    "for value in range(1,amount+1):\n",
    "    for coin in coins:\n",
    "        if(coin <= value):\n",
    "            dp[value] = min(dp[value], dp[value - coin] + 1)             \n",
    "print(dp)\n",
    "if(dp[amount] == amount+1):\n",
    "   print(-1)\n",
    "else:\n",
    "   print(dp[amount])     "
   ]
  },
  {
   "cell_type": "code",
   "execution_count": 9,
   "metadata": {},
   "outputs": [
    {
     "name": "stdout",
     "output_type": "stream",
     "text": [
      "2\n"
     ]
    }
   ],
   "source": [
    "# minimum number of platforms\n",
    "\n",
    "arrival=[900, 940, 950, 1130, 1500, 1800]\n",
    "departure=[910, 1200, 1120, 1140, 1900, 2000]\n",
    "arrival.sort()\n",
    "departure.sort()\n",
    "\n",
    "i,j=1,0\n",
    "platforms=1\n",
    "ans=1\n",
    "while(i<len(arrival) and j<len(departure)):\n",
    "    if arrival[i]>departure[j]:\n",
    "        platforms-=1\n",
    "        j+=1\n",
    "    else:\n",
    "        platforms+=1\n",
    "        i+=1\n",
    "        \n",
    "    ans=max(ans,platforms)\n",
    "print(ans)"
   ]
  },
  {
   "cell_type": "code",
   "execution_count": 9,
   "metadata": {},
   "outputs": [
    {
     "name": "stdout",
     "output_type": "stream",
     "text": [
      "7 10 4\n",
      "100\n",
      "{7: [1], 10: [2], 4: [3]}\n",
      "[4, 7, 10]\n",
      "6\n"
     ]
    }
   ],
   "source": [
    "# Buy Maximum Stocks if i stocks can be bought on i-th day\n",
    "\n",
    "list1=list(map(int,input().split()))\n",
    "total_money=int(input())\n",
    "dict1={}\n",
    "ans=0\n",
    "for i in range(len(list1)):\n",
    "    try:\n",
    "        dict1[list1[i]].append(i+1)\n",
    "    except:\n",
    "        dict1[list1[i]]=[i+1]\n",
    "\n",
    "for i in sorted(dict1.keys()):\n",
    "    for j in dict1[i]:\n",
    "        buyable=min(j,total_money//i)\n",
    "        total_money-=((total_money//i)*buyable)\n",
    "        ans+=buyable\n",
    "    if total_money<=0:\n",
    "        break\n",
    "print(ans)"
   ]
  },
  {
   "cell_type": "code",
   "execution_count": 5,
   "metadata": {},
   "outputs": [
    {
     "name": "stdout",
     "output_type": "stream",
     "text": [
      "5\n",
      "4\n",
      "3 2 1 4 5\n",
      "1\n",
      "1 5\n"
     ]
    }
   ],
   "source": [
    "# Find the minimum and maximum amount to buy all N candies\n",
    "\n",
    "n=int(input())\n",
    "k=int(input())\n",
    "list1=list(map(int,input().split()))\n",
    "ans1,ans2=0,0\n",
    "list1.sort()\n",
    "left_ele=len(list1)-1\n",
    "i=0\n",
    "while(i<=left_ele):\n",
    "    print(list1[i])\n",
    "    ans1+=list1[i]\n",
    "    left_ele-=k\n",
    "    i+=1\n",
    "left_ele=0\n",
    "i=len(list1)-1\n",
    "while(i>=left_ele):\n",
    "    ans2+=list1[i]\n",
    "    left_ele+=k\n",
    "    i-=1\n",
    "print(ans1,ans2)\n",
    "    "
   ]
  },
  {
   "cell_type": "code",
   "execution_count": 12,
   "metadata": {},
   "outputs": [
    {
     "name": "stdout",
     "output_type": "stream",
     "text": [
      "16\n",
      "10\n",
      "2\n",
      "2\n"
     ]
    }
   ],
   "source": [
    "# Check if it is possible to survive on Island\n",
    "import math\n",
    "\n",
    "buyable=int(input())\n",
    "days=int(input())\n",
    "mandat=int(input())\n",
    "if ((buyable*6<mandat*7)or (buyable<mandat)):\n",
    "    print(\"NO\")\n",
    "else:\n",
    "    days=math.ceil((days*mandat)/buyable)\n",
    "    print(ans)"
   ]
  },
  {
   "cell_type": "code",
   "execution_count": null,
   "metadata": {},
   "outputs": [],
   "source": [
    "# Find maximum meetings in one room\n",
    "\n",
    "def maximumMeetings(self,n,list1,list2):\n",
    "        dict1={}\n",
    "        for i in range(len(list1)):\n",
    "            if list1[i] in dict1:\n",
    "                if dict1[list1[i]]>list2[i]:\n",
    "                    dict1[list1[i]]=list2[i]\n",
    "            else:\n",
    "                dict1[list1[i]]=list2[i]\n",
    "\n",
    "        temp_sort=(sorted(dict1.items(),key=lambda x:x[1]))\n",
    "        temp=-1\n",
    "        cnt=0\n",
    "        for i in range(len(temp_sort)):\n",
    "            if temp_sort[i][0]>temp:\n",
    "                cnt+=1\n",
    "                temp=temp_sort[i][1]\n",
    "        return (cnt)"
   ]
  },
  {
   "cell_type": "code",
   "execution_count": 21,
   "metadata": {},
   "outputs": [
    {
     "name": "stdout",
     "output_type": "stream",
     "text": [
      "-1 0 0 \n",
      "0\n"
     ]
    }
   ],
   "source": [
    "# Maximum product subset of an array\n",
    "\n",
    "list1=list(map(int,input().split()))\n",
    "total_prod=1\n",
    "neg=0\n",
    "max_neg=-11111111111\n",
    "zero_cnt=0\n",
    "for i in list1:\n",
    "    if i!=0:\n",
    "        total_prod*=i\n",
    "    if i<0:\n",
    "        neg+=1\n",
    "        max_neg=max(max_neg,i)\n",
    "    if i==0:\n",
    "        zero_cnt+=1\n",
    "if neg==1 and zero_cnt+neg==len(list1):\n",
    "    total_prod=0\n",
    "elif neg%2!=0:\n",
    "    total_prod=total_prod//abs(max_neg)\n",
    "print(abs(total_prod))"
   ]
  },
  {
   "cell_type": "code",
   "execution_count": null,
   "metadata": {},
   "outputs": [],
   "source": [
    "# Maximize array sum after K negations\n",
    "\n",
    "def maximizeSum(self, a, n, k):\n",
    "        a.sort()\n",
    "        neg,pos=0,0\n",
    "        sum1=sum(a)\n",
    "        for i in a:\n",
    "           if i<0:\n",
    "             neg+=1\n",
    "           else:\n",
    "             pos+=1\n",
    "        if neg==0:\n",
    "            if k%2==0:\n",
    "                return sum1\n",
    "            else:\n",
    "                return sum1-(2*a[0])\n",
    "        else:\n",
    "            for i in range(len(a)):\n",
    "                if a[i]<0 and k>0:\n",
    "                    sum1+=(2*abs(a[i]))\n",
    "                    a[i]=abs(a[i])\n",
    "                    k-=1\n",
    "                if k==0:\n",
    "                    return sum1\n",
    "            if k==0:\n",
    "                return sum1\n",
    "            if k%2==0:\n",
    "                return sum1\n",
    "            else:\n",
    "                a.sort()\n",
    "                return sum1-(2*a[0])"
   ]
  },
  {
   "cell_type": "code",
   "execution_count": null,
   "metadata": {},
   "outputs": [],
   "source": [
    "# Maximize the sum of arr[i]*i\n",
    "\n",
    "ans=0\n",
    "a.sort()\n",
    "for i in range(len(a)):\n",
    "    ans+=a[i]*i\n",
    "\n",
    "return ans%((10**9)+7)      "
   ]
  },
  {
   "cell_type": "code",
   "execution_count": 39,
   "metadata": {},
   "outputs": [
    {
     "name": "stdout",
     "output_type": "stream",
     "text": [
      "1 2 4 8\n",
      "18\n"
     ]
    }
   ],
   "source": [
    "# Maximum sum of absolute difference of an array\n",
    "\n",
    "list1=list(map(int,input().split()))\n",
    "list1.sort()\n",
    "# print(list1)\n",
    "list2=[]\n",
    "i,j=1,len(list1)-1\n",
    "flag=1\n",
    "list2=[list1[0]]\n",
    "while(i<=j):\n",
    "    if flag==1:\n",
    "        list2.append(list1[j])\n",
    "        flag=0\n",
    "        j-=1\n",
    "    else:\n",
    "        list2.append(list1[i])\n",
    "        flag=1\n",
    "        i+=1\n",
    "ans=0\n",
    "# print(list2)\n",
    "for i in range(1,len(list1)):\n",
    "    ans+=abs(list2[i]-list2[i-1])\n",
    "ans+=list2[-1]-list2[0]\n",
    "print(ans)"
   ]
  },
  {
   "cell_type": "code",
   "execution_count": 2,
   "metadata": {},
   "outputs": [
    {
     "name": "stdout",
     "output_type": "stream",
     "text": [
      "4 1 8 7\n",
      "2 3 6 5\n",
      "6\n"
     ]
    }
   ],
   "source": [
    "# Minimum sum of absolute difference of pairs of two arrays\n",
    "\n",
    "list1=list(map(int,input().split()))\n",
    "list2=list(map(int,input().split()))\n",
    "\n",
    "list1.sort()\n",
    "list2.sort()\n",
    "ans=0\n",
    "for i in range(len(list1)):\n",
    "    ans+=abs(list1[i]-list2[i])\n",
    "print(ans)"
   ]
  },
  {
   "cell_type": "code",
   "execution_count": 14,
   "metadata": {},
   "outputs": [
    {
     "name": "stdout",
     "output_type": "stream",
     "text": [
      "8\n",
      "4\n",
      "1\n"
     ]
    }
   ],
   "source": [
    "# Program for Least Recently Used (LRU) Page Replacement algorithm\n",
    "\n",
    "def pageFaults(self, N, capacity, list1):\n",
    "        stack=[]\n",
    "        ans=0\n",
    "        for i in range(len(list1)):\n",
    "            if len(stack)<capacity:\n",
    "                if list1[i] not in stack:\n",
    "                    stack.append(list1[i])\n",
    "                    ans+=1\n",
    "                else:\n",
    "                    ind=stack.index(list1[i])\n",
    "                    stack.pop(ind)\n",
    "                    stack.append(list1[i])\n",
    "            else:\n",
    "                if list1[i] not in stack:\n",
    "                    stack.pop(0)\n",
    "                    stack.append(list1[i])\n",
    "                    ans+=1\n",
    "                else:\n",
    "                    ind=stack.index(list1[i])\n",
    "                    stack.pop(ind)\n",
    "                    stack.append(list1[i])                \n",
    "        return ans"
   ]
  },
  {
   "cell_type": "code",
   "execution_count": 5,
   "metadata": {},
   "outputs": [
    {
     "name": "stdout",
     "output_type": "stream",
     "text": [
      "3 1 7 1\n",
      "1\n"
     ]
    }
   ],
   "source": [
    "# Smallest subset with sum greater than all other elements\n",
    "\n",
    "list1=list(map(int,input().split()))\n",
    "list1.sort()\n",
    "sum1=0\n",
    "cnt=0\n",
    "full_sum=sum(list1)\n",
    "for i in range(len(list1)-1,-1,-1):\n",
    "    sum1+=list1[i]\n",
    "    cnt+=1\n",
    "    full_sum-=list1[i]\n",
    "    if sum1>full_sum:\n",
    "        break\n",
    "print(cnt)\n"
   ]
  },
  {
   "cell_type": "code",
   "execution_count": null,
   "metadata": {},
   "outputs": [],
   "source": [
    "# Smallest subarray with sum greater than x \n",
    "\n",
    "def smallestSubWithSum(self, a, n, x):\n",
    "    i,j=0,0\n",
    "    sum1=0\n",
    "    minLength=1111111111\n",
    "    while(i<len(a) and j<len(a)):\n",
    "        if sum1>x:\n",
    "            minLength=min((j-1)-i+1,minLength)\n",
    "            sum1-=a[i]\n",
    "            i+=1\n",
    "        else:\n",
    "            sum1+=a[j]\n",
    "            j+=1\n",
    "    while(i<len(a)):\n",
    "        if sum1>x:\n",
    "            minLength=min((j-1)-i+1,minLength)\n",
    "            sum1-=a[i]\n",
    "            i+=1    \n",
    "        else:\n",
    "            break\n",
    "    return minLength"
   ]
  },
  {
   "cell_type": "code",
   "execution_count": null,
   "metadata": {},
   "outputs": [],
   "source": [
    "# Chocolate Distribution Problem\n",
    "\n",
    "def findMinDiff(self, A,N,M):\n",
    "        A.sort()\n",
    "        i=0\n",
    "        j=M\n",
    "        ans=1111111111111\n",
    "        # print(A)\n",
    "        while(i<len(A)-M+1):\n",
    "            strt=A[i]\n",
    "            end=A[i+M-1]\n",
    "            ans=min(ans,end-strt)\n",
    "            i+=1\n",
    "        return ans"
   ]
  },
  {
   "cell_type": "code",
   "execution_count": 15,
   "metadata": {},
   "outputs": [
    {
     "name": "stdout",
     "output_type": "stream",
     "text": [
      "8 7 7\n",
      "7 7 7\n",
      "7\n"
     ]
    }
   ],
   "source": [
    "# Find maximum sum possible equal sum of three stacks\n",
    "\n",
    "def maxSum(stack1, stack2, stack3):\n",
    "    sum1, sum2, sum3 = sum(stack1),sum(stack2),sum(stack3)\n",
    "    top1, top2, top3 = len(stack1)-1, len(stack2)-1, len(stack3)-1\n",
    "    ans = 0\n",
    "\n",
    "    while (True):\n",
    "        if (top1 == 0 or top2 == 0 or top3 == 0):\n",
    "            return 0\n",
    "        if (sum1 == sum2 and sum2 == sum3):\n",
    "            return sum1\n",
    "        if (sum1 >= sum2 and sum1 >= sum3):\n",
    "            sum1 -= stack1[top1]\n",
    "            top1-=1\n",
    "        elif (sum2 >= sum1 and sum2 >= sum3):\n",
    "            sum2 -= stack2[top2]\n",
    "            top2-=1\n",
    "        elif (sum3 >= sum2 and sum3 >= sum1):\n",
    "            sum3 -= stack3[top3]\n",
    "            top3-=1\n",
    "\n",
    "stack1 = [ 3, 2, 1, 1, 1 ]\n",
    "stack2 = [ 4, 3, 2 ]\n",
    "stack3 = [ 1, 1, 4, 1 ]\n",
    "\n",
    "print (maxSum(stack1, stack2, stack3))"
   ]
  },
  {
   "cell_type": "code",
   "execution_count": 25,
   "metadata": {},
   "outputs": [
    {
     "name": "stdout",
     "output_type": "stream",
     "text": [
      "-1\n",
      "109\n"
     ]
    }
   ],
   "source": [
    "# Find smallest number with given number of digits and sum of digits\n",
    "\n",
    "sum1=188\n",
    "digits=2\n",
    "ans=\"\"\n",
    "ans=[0 for i in range(digits)]\n",
    "if sum1>digits*9:\n",
    "    print(-1)\n",
    "sum1-=1\n",
    "\n",
    "for i in range(len(ans)-1,-1,-1):\n",
    "    if sum1>9:\n",
    "        ans[i]=str(9)\n",
    "        sum1-=9\n",
    "    else:\n",
    "        ans[i]=str(sum1)\n",
    "        sum1=0\n",
    "ans[0]=str(int(ans[0])+1)\n",
    "print(\"\".join(ans))"
   ]
  },
  {
   "cell_type": "code",
   "execution_count": 5,
   "metadata": {},
   "outputs": [
    {
     "name": "stdout",
     "output_type": "stream",
     "text": [
      "87\n",
      "nm\n"
     ]
    },
    {
     "ename": "ValueError",
     "evalue": "invalid literal for int() with base 10: 'nm'",
     "output_type": "error",
     "traceback": [
      "\u001b[1;31m---------------------------------------------------------------------------\u001b[0m",
      "\u001b[1;31mValueError\u001b[0m                                Traceback (most recent call last)",
      "\u001b[1;32m<ipython-input-5-f17981199ed2>\u001b[0m in \u001b[0;36m<module>\u001b[1;34m\u001b[0m\n\u001b[0;32m      2\u001b[0m \u001b[1;33m\u001b[0m\u001b[0m\n\u001b[0;32m      3\u001b[0m \u001b[0mcapacity\u001b[0m\u001b[1;33m=\u001b[0m\u001b[0mint\u001b[0m\u001b[1;33m(\u001b[0m\u001b[0minput\u001b[0m\u001b[1;33m(\u001b[0m\u001b[1;33m)\u001b[0m\u001b[1;33m)\u001b[0m\u001b[1;33m\u001b[0m\u001b[1;33m\u001b[0m\u001b[0m\n\u001b[1;32m----> 4\u001b[1;33m \u001b[0mvalues\u001b[0m\u001b[1;33m=\u001b[0m\u001b[0mlist\u001b[0m\u001b[1;33m(\u001b[0m\u001b[0mmap\u001b[0m\u001b[1;33m(\u001b[0m\u001b[0mint\u001b[0m\u001b[1;33m,\u001b[0m\u001b[0minput\u001b[0m\u001b[1;33m(\u001b[0m\u001b[1;33m)\u001b[0m\u001b[1;33m.\u001b[0m\u001b[0msplit\u001b[0m\u001b[1;33m(\u001b[0m\u001b[1;33m)\u001b[0m\u001b[1;33m)\u001b[0m\u001b[1;33m)\u001b[0m\u001b[1;33m\u001b[0m\u001b[1;33m\u001b[0m\u001b[0m\n\u001b[0m\u001b[0;32m      5\u001b[0m \u001b[0mweights\u001b[0m\u001b[1;33m=\u001b[0m\u001b[0mlist\u001b[0m\u001b[1;33m(\u001b[0m\u001b[0mmap\u001b[0m\u001b[1;33m(\u001b[0m\u001b[0mint\u001b[0m\u001b[1;33m,\u001b[0m\u001b[0minput\u001b[0m\u001b[1;33m(\u001b[0m\u001b[1;33m)\u001b[0m\u001b[1;33m.\u001b[0m\u001b[0msplit\u001b[0m\u001b[1;33m(\u001b[0m\u001b[1;33m)\u001b[0m\u001b[1;33m)\u001b[0m\u001b[1;33m)\u001b[0m\u001b[1;33m\u001b[0m\u001b[1;33m\u001b[0m\u001b[0m\n\u001b[0;32m      6\u001b[0m \u001b[0mratioDict\u001b[0m\u001b[1;33m=\u001b[0m\u001b[1;33m{\u001b[0m\u001b[1;33m}\u001b[0m\u001b[1;33m\u001b[0m\u001b[1;33m\u001b[0m\u001b[0m\n",
      "\u001b[1;31mValueError\u001b[0m: invalid literal for int() with base 10: 'nm'"
     ]
    }
   ],
   "source": [
    "# Fractional Knapsack Problem\n",
    "\n",
    "capacity=int(input())\n",
    "values=list(map(int,input().split()))\n",
    "weights=list(map(int,input().split()))\n",
    "ratioDict={}\n",
    "for i in range(len(values)):\n",
    "    ratioDict[i]=values[i]/weights[i]\n",
    "ratioDict = dict(sorted(ratioDict.items(),reverse=True, key=lambda x:x[1]))\n",
    "ans=0\n",
    "# print(ratioDict)\n",
    "for i in ratioDict:\n",
    "    if capacity>0 and weights[i]>0:\n",
    "        if capacity<weights[i]:\n",
    "            fraction = capacity / weights[i]\n",
    "            ans+=values[i]*fraction\n",
    "            break\n",
    "        else:\n",
    "            ans+=weights[i]*(ratioDict[i])\n",
    "            capacity-=weights[i]\n",
    "print(ans)"
   ]
  },
  {
   "cell_type": "code",
   "execution_count": 4,
   "metadata": {},
   "outputs": [
    {
     "name": "stdout",
     "output_type": "stream",
     "text": [
      "None\n",
      "[5, 9, 12, 45, 16, 13]\n"
     ]
    }
   ],
   "source": [
    "import heapq\n",
    "\n",
    "list1=[12, 9, 5, 45, 16, 13]\n",
    "print(heapq.heapify(list1))\n",
    "print(list1)"
   ]
  },
  {
   "cell_type": "code",
   "execution_count": 14,
   "metadata": {},
   "outputs": [
    {
     "name": "stdout",
     "output_type": "stream",
     "text": [
      "0 100 101 1100 1101 111 \n"
     ]
    }
   ],
   "source": [
    "# Huffman Coding\n",
    "\n",
    "from heapq import heapify, heappush, heappop\n",
    "class Node : \n",
    "    def __init__(self,freq,symbol,left=None,right=None) : \n",
    "        self.freq=freq\n",
    "        self.symbol=symbol\n",
    "        self.left=left\n",
    "        self.right=right\n",
    "    def __lt__(self, other):\n",
    "        return self.freq < other.freq\n",
    "\n",
    "class Solution:\n",
    "    def traverse(self,root,ans,curr) : \n",
    "        if(root==None) : return;\n",
    "        if(root.symbol!=\"$\" and root.left==None and root.right==None) : \n",
    "            ans.append(curr)\n",
    "            return;\n",
    "        self.traverse(root.left,ans,curr+'0')\n",
    "        self.traverse(root.right,ans,curr+'1')\n",
    "        \n",
    "    def huffmanCodes(self,S,f,N):\n",
    "        heap=[]\n",
    "        heapify(heap)\n",
    "        for i in range(N) : \n",
    "            heappush(heap,Node(f[i],S[i]))\n",
    "            \n",
    "        while len(heap)>1 : \n",
    "            left=heappop(heap)\n",
    "            right=heappop(heap)\n",
    "            node=Node(left.freq+right.freq,\"$\",left,right)\n",
    "            heappush(heap,node)\n",
    "        ans=[]\n",
    "        self.traverse(heappop(heap),ans,\"\")\n",
    "        return ans\n",
    "\n",
    "ob = Solution()\n",
    "freq=[5, 16, 45, 13, 9, 12]\n",
    "N=len(freq)\n",
    "ans = ob.huffmanCodes(\"abcdef\",freq,N)\n",
    "for i in ans:\n",
    "    print(i, end = \" \")\n",
    "print()\n"
   ]
  },
  {
   "cell_type": "code",
   "execution_count": 6,
   "metadata": {},
   "outputs": [
    {
     "name": "stdout",
     "output_type": "stream",
     "text": [
      "4 2 7 6 9\n",
      "[2, 4, 7, 6, 9]\n",
      "6\n",
      "12\n",
      "16\n",
      "28\n",
      "62\n"
     ]
    }
   ],
   "source": [
    "# Minimum Cost of ropes (similar to huffman)\n",
    "\n",
    "from heapq import heapify, heappush, heappop\n",
    "\n",
    "list1=list(map(int,input().split()))\n",
    "heapify(list1)\n",
    "ans=0\n",
    "while(len(list1)>1):\n",
    "    smallest1=heappop(list1)\n",
    "    smallest2=heappop(list1)\n",
    "    ans+=(smallest1+smallest2)\n",
    "    heappush(list1,smallest1+smallest2)\n",
    "\n",
    "print(ans)"
   ]
  },
  {
   "cell_type": "code",
   "execution_count": 5,
   "metadata": {},
   "outputs": [
    {
     "name": "stdout",
     "output_type": "stream",
     "text": [
      "geeksforgeeks\n",
      "['e', 'f', 'e', 'o', 'e', 'r', 'e', 'k', 'e', 's', 'e', 's', 'e']\n"
     ]
    }
   ],
   "source": [
    "# Rearrange characters in a string such that no two adjacent are same (HashMap)\n",
    "\n",
    "from collections import Counter\n",
    "\n",
    "s=input()\n",
    "cnt=Counter(s)\n",
    "max1=-11111111111\n",
    "max_ch=\"\"\n",
    "for i in cnt:\n",
    "    if cnt[i]>max1:\n",
    "        max1=cnt[i]\n",
    "        max_chr=i\n",
    "list1=[\"\" for i in range(len(s))]\n",
    "ind=0\n",
    "while(ind<len(s)):\n",
    "    list1[ind]=max_chr\n",
    "    ind+=2\n",
    "cnt[max_chr]=0\n",
    "for i in cnt:\n",
    "    if cnt[i]>0:\n",
    "        while(cnt[i]>0):\n",
    "            if ind>len(s)-1:\n",
    "                ind=1\n",
    "            list1[ind]=i\n",
    "            cnt[i]-=1\n",
    "            ind+=2\n",
    "print(list1)"
   ]
  },
  {
   "cell_type": "code",
   "execution_count": 8,
   "metadata": {},
   "outputs": [],
   "source": [
    "# Rearrange characters in a string such that no two adjacent are same (Heap Soln)\n",
    "\n",
    "from heapq import heappush, heappop\n",
    "class Solution:\n",
    "    def reorganizeString(self, s: str) -> str:\n",
    "        \n",
    "        if not s:\n",
    "            return \"\"\n",
    "\n",
    "        mapping = {}\n",
    "        for c in s:\n",
    "            if c in mapping:\n",
    "                mapping[c] += 1\n",
    "            else:\n",
    "                mapping[c] = 1\n",
    "\n",
    "        heap = []\n",
    "        for key in mapping:\n",
    "            heappush(heap, (-mapping[key], key))\n",
    "\n",
    "        res_list = []\n",
    "        while len(heap) > 1:\n",
    "            freq1, char1 = heappop(heap)\n",
    "            freq2, char2 = heappop(heap)\n",
    "            res_list.append(char1)\n",
    "            res_list.append(char2)\n",
    "            if abs(freq1) > 1:\n",
    "                heappush(heap, (freq1 + 1, char1))\n",
    "            if abs(freq2) > 1: \n",
    "                heappush(heap, (freq2 + 1, char2))\n",
    "\n",
    "        if heap:\n",
    "            freq, char = heap[0]\n",
    "            if abs(freq) > 1: \n",
    "                return \"\"\n",
    "            else:\n",
    "                res_list.append(char)\n",
    "        \n",
    "        return ''.join(res_list)"
   ]
  },
  {
   "cell_type": "code",
   "execution_count": 15,
   "metadata": {},
   "outputs": [
    {
     "name": "stdout",
     "output_type": "stream",
     "text": [
      "3\n"
     ]
    }
   ],
   "source": [
    "# Maximum trains for which stoppage can be provided\n",
    "\n",
    "train_timings=[[1000, 1030, 1],[1010, 1020, 1],[1025, 1040, 1],[1130, 1145, 2],[1130, 1140, 2]]\n",
    "trains=sorted(train_timings,key=lambda x:x[1])\n",
    "max1=0\n",
    "\n",
    "for i in train_timings:\n",
    "    max1=max(max1,i[2])\n",
    "list1=[0 for i in range(max1+1)]\n",
    "ans=0\n",
    "\n",
    "for i in trains:\n",
    "    if list1[i[2]]==0:\n",
    "        ans+=1\n",
    "        list1[i[2]]=i[1]\n",
    "    else:\n",
    "        if i[0]>=list1[i[2]]:\n",
    "            ans+=1\n",
    "            list1[i[2]]=i[1]\n",
    "\n",
    "print(ans)"
   ]
  },
  {
   "cell_type": "code",
   "execution_count": 7,
   "metadata": {},
   "outputs": [
    {
     "name": "stdout",
     "output_type": "stream",
     "text": [
      "2 1 3 1 4\n",
      "4 1 2\n",
      "42\n"
     ]
    }
   ],
   "source": [
    "# Minimum Cost to cut a board into squares (cut with max cost edge first as at that time no. of pieces will be less which\n",
    "# will overall reduce the cost as <Total_cost = Total_cost + edge_cost * total_pieces>. use 2 pointer approach to select \n",
    "# max at current position)\n",
    "\n",
    "ver_costs=list(map(int,input().split()))\n",
    "hor_costs=list(map(int,input().split()))\n",
    "\n",
    "hor_pieces=1\n",
    "ver_pieces=1\n",
    "\n",
    "ver_costs.sort(reverse=True)\n",
    "hor_costs.sort(reverse=True)\n",
    "\n",
    "i,j=0,0\n",
    "ans=0\n",
    "while(i<len(ver_costs) and j<len(hor_costs)):\n",
    "    if ver_costs[i]>hor_costs[j]:\n",
    "        ans+=ver_costs[i]*hor_pieces\n",
    "        ver_pieces+=1\n",
    "        i+=1\n",
    "    else:\n",
    "        ans+=hor_costs[j]*ver_pieces\n",
    "        hor_pieces+=1\n",
    "        j+=1\n",
    "while(i<len(ver_costs)):\n",
    "    ans+=ver_costs[i]*hor_pieces\n",
    "    i+=1\n",
    "while(j<len(hor_costs)):\n",
    "    ans+=hor_costs[j]*ver_pieces\n",
    "    j+=1\n",
    "\n",
    "print(ans)    "
   ]
  },
  {
   "cell_type": "code",
   "execution_count": 2,
   "metadata": {},
   "outputs": [
    {
     "name": "stdout",
     "output_type": "stream",
     "text": [
      "3\n",
      "f\n"
     ]
    },
    {
     "ename": "ValueError",
     "evalue": "invalid literal for int() with base 10: 'f'",
     "output_type": "error",
     "traceback": [
      "\u001b[1;31m---------------------------------------------------------------------------\u001b[0m",
      "\u001b[1;31mValueError\u001b[0m                                Traceback (most recent call last)",
      "\u001b[1;32m<ipython-input-2-3fb62a6b1b3a>\u001b[0m in \u001b[0;36m<module>\u001b[1;34m\u001b[0m\n\u001b[0;32m      5\u001b[0m \u001b[0mk\u001b[0m\u001b[1;33m=\u001b[0m\u001b[0mint\u001b[0m\u001b[1;33m(\u001b[0m\u001b[0minput\u001b[0m\u001b[1;33m(\u001b[0m\u001b[1;33m)\u001b[0m\u001b[1;33m)\u001b[0m\u001b[1;33m\u001b[0m\u001b[1;33m\u001b[0m\u001b[0m\n\u001b[0;32m      6\u001b[0m \u001b[0mheap\u001b[0m\u001b[1;33m=\u001b[0m\u001b[1;33m[\u001b[0m\u001b[1;33m]\u001b[0m\u001b[1;33m\u001b[0m\u001b[1;33m\u001b[0m\u001b[0m\n\u001b[1;32m----> 7\u001b[1;33m \u001b[0mlist1\u001b[0m\u001b[1;33m=\u001b[0m\u001b[0mlist\u001b[0m\u001b[1;33m(\u001b[0m\u001b[0mmap\u001b[0m\u001b[1;33m(\u001b[0m\u001b[0mint\u001b[0m\u001b[1;33m,\u001b[0m\u001b[0minput\u001b[0m\u001b[1;33m(\u001b[0m\u001b[1;33m)\u001b[0m\u001b[1;33m.\u001b[0m\u001b[0msplit\u001b[0m\u001b[1;33m(\u001b[0m\u001b[1;33m)\u001b[0m\u001b[1;33m)\u001b[0m\u001b[1;33m)\u001b[0m\u001b[1;33m\u001b[0m\u001b[1;33m\u001b[0m\u001b[0m\n\u001b[0m\u001b[0;32m      8\u001b[0m \u001b[1;32mfor\u001b[0m \u001b[0mi\u001b[0m \u001b[1;32min\u001b[0m \u001b[0mrange\u001b[0m\u001b[1;33m(\u001b[0m\u001b[0mlen\u001b[0m\u001b[1;33m(\u001b[0m\u001b[0mlist1\u001b[0m\u001b[1;33m)\u001b[0m\u001b[1;33m)\u001b[0m\u001b[1;33m:\u001b[0m\u001b[1;33m\u001b[0m\u001b[1;33m\u001b[0m\u001b[0m\n\u001b[0;32m      9\u001b[0m     \u001b[1;32mfor\u001b[0m \u001b[0mj\u001b[0m \u001b[1;32min\u001b[0m \u001b[0mrange\u001b[0m\u001b[1;33m(\u001b[0m\u001b[0mlen\u001b[0m\u001b[1;33m(\u001b[0m\u001b[0mlist1\u001b[0m\u001b[1;33m[\u001b[0m\u001b[0mi\u001b[0m\u001b[1;33m]\u001b[0m\u001b[1;33m)\u001b[0m\u001b[1;33m)\u001b[0m\u001b[1;33m:\u001b[0m\u001b[1;33m\u001b[0m\u001b[1;33m\u001b[0m\u001b[0m\n",
      "\u001b[1;31mValueError\u001b[0m: invalid literal for int() with base 10: 'f'"
     ]
    }
   ],
   "source": [
    "# Merge “K” sorted arrays. [ IMP ]\n",
    "\n",
    "from heapq import heappush, heappop, heapify\n",
    "\n",
    "k=int(input())\n",
    "heap=[]\n",
    "list1=list(map(int,input().split()))\n",
    "for i in range(len(list1)):\n",
    "    for j in range(len(list1[i])):\n",
    "        heappush(heap,list1[i][j])\n",
    "list2=[]\n",
    "for i in range(len(heap)):\n",
    "    list2.append(heappop(heap))\n",
    "print(list2)"
   ]
  },
  {
   "cell_type": "code",
   "execution_count": 6,
   "metadata": {},
   "outputs": [
    {
     "name": "stdout",
     "output_type": "stream",
     "text": [
      "1 2 2 2 3 3 4 4 5 5 6 6 7 8 9 9 "
     ]
    }
   ],
   "source": [
    "# Merge “K” sorted arrays. [ IMP ]  (O(K*K(logK))) - Optimized\n",
    "\n",
    "from heapq import heappush, heappop, heapify\n",
    "\n",
    "class Node : \n",
    "    def __init__(self,value,arr_pos,index) : \n",
    "        self.value=value\n",
    "        self.arr_pos=arr_pos\n",
    "        self.index=index\n",
    "        \n",
    "    def __lt__(self, other):\n",
    "        return self.value < other.value\n",
    "\n",
    "list1=[[1,2,3,4],[2,2,3,4],[5,5,6,6],[7,8,9,9]]\n",
    "heap=[]\n",
    "for i in range(len(list1)):\n",
    "    heappush(heap,Node(list1[i][0],i,0))\n",
    "\n",
    "while(len(heap)>0):\n",
    "    min_node=heappop(heap)\n",
    "    print(min_node.value,end=\" \")\n",
    "    arr_pos=min_node.arr_pos\n",
    "    if min_node.index+1<len(list1[arr_pos]):\n",
    "        heappush(heap,Node(list1[arr_pos][min_node.index+1],arr_pos,min_node.index+1))"
   ]
  },
  {
   "cell_type": "code",
   "execution_count": 20,
   "metadata": {},
   "outputs": [
    {
     "data": {
      "text/plain": [
       "65536"
      ]
     },
     "execution_count": 20,
     "metadata": {},
     "output_type": "execute_result"
    }
   ],
   "source": [
    "2**16"
   ]
  },
  {
   "cell_type": "code",
   "execution_count": 21,
   "metadata": {},
   "outputs": [
    {
     "data": {
      "text/plain": [
       "'0b11'"
      ]
     },
     "execution_count": 21,
     "metadata": {},
     "output_type": "execute_result"
    }
   ],
   "source": [
    "bin(3)"
   ]
  },
  {
   "cell_type": "code",
   "execution_count": 22,
   "metadata": {},
   "outputs": [
    {
     "data": {
      "text/plain": [
       "4"
      ]
     },
     "execution_count": 22,
     "metadata": {},
     "output_type": "execute_result"
    }
   ],
   "source": [
    "4&4"
   ]
  },
  {
   "cell_type": "code",
   "execution_count": 23,
   "metadata": {},
   "outputs": [
    {
     "data": {
      "text/plain": [
       "0"
      ]
     },
     "execution_count": 23,
     "metadata": {},
     "output_type": "execute_result"
    }
   ],
   "source": [
    "1&2"
   ]
  },
  {
   "cell_type": "code",
   "execution_count": 24,
   "metadata": {},
   "outputs": [
    {
     "data": {
      "text/plain": [
       "3"
      ]
     },
     "execution_count": 24,
     "metadata": {},
     "output_type": "execute_result"
    }
   ],
   "source": [
    "1^2"
   ]
  },
  {
   "cell_type": "code",
   "execution_count": null,
   "metadata": {},
   "outputs": [],
   "source": []
  }
 ],
 "metadata": {
  "kernelspec": {
   "display_name": "Python 3",
   "language": "python",
   "name": "python3"
  },
  "language_info": {
   "codemirror_mode": {
    "name": "ipython",
    "version": 3
   },
   "file_extension": ".py",
   "mimetype": "text/x-python",
   "name": "python",
   "nbconvert_exporter": "python",
   "pygments_lexer": "ipython3",
   "version": "3.7.4"
  }
 },
 "nbformat": 4,
 "nbformat_minor": 4
}
