{
 "cells": [
  {
   "cell_type": "code",
   "execution_count": 21,
   "metadata": {},
   "outputs": [
    {
     "name": "stdout",
     "output_type": "stream",
     "text": [
      "1\n",
      "5 3\n",
      "1\n",
      "2\n",
      "4\n",
      "8\n",
      "9\n",
      "--- 4 1 8\n",
      "inside 4 [1, 2, 4, 8, 9] 3\n",
      "-1\n",
      "--- 2 1 3\n",
      "inside 2 [1, 2, 4, 8, 9] 3\n",
      "1\n",
      "--- 3 3 3\n",
      "inside 3 [1, 2, 4, 8, 9] 3\n",
      "1\n",
      "3\n"
     ]
    }
   ],
   "source": [
    "#Aggresive Cows \n",
    "\n",
    "#go for checking each distance possible or not in greedy way apply binary search on all possible distance range [a[0],a[-1]-a[0]]\n",
    "#if curr distance is possible try for checking greater distance than it (low=mid+1) else no need to traverese rest\n",
    "# because if 4 dist is not possible then for sure >=5 will also not possibel so decrease search space by assigning high=mid-1\n",
    "\n",
    "def disIfPoss(tgtDis,stalls,cows):\n",
    "    lastCowStall=stalls[0]\n",
    "    cnt=1\n",
    "    for i in range(1,len(stalls)):\n",
    "        if stalls[i]-lastCowStall>=tgtDis:\n",
    "            cnt+=1\n",
    "            lastCowStall=stalls[i]\n",
    "        if cnt==cows:\n",
    "            return 1\n",
    "    return -1\n",
    "        \n",
    "for _ in range(int(input())):\n",
    "    n,c=map(int,input().split())\n",
    "    stalls=[]\n",
    "    for i in range(n):\n",
    "        stalls.append(int(input()))\n",
    "    stalls.sort()\n",
    "    maxDiffPoss=stalls[-1]-stalls[0]\n",
    "    low=1\n",
    "    ans=111111111111\n",
    "    high=maxDiffPoss\n",
    "    while(low<=high):\n",
    "        mid=low+((high-low)//2)   \n",
    "#         print(\"---\",mid,low,high)\n",
    "        isDisPoss=disIfPoss(mid,stalls,c)\n",
    "#         print(isDisPoss)\n",
    "        if isDisPoss==1:\n",
    "            ans=mid\n",
    "            low=mid+1\n",
    "        else:\n",
    "            high=mid-1\n",
    "    if ans==111111111111:\n",
    "        print(-1)\n",
    "    else:\n",
    "        print(ans)     "
   ]
  },
  {
   "cell_type": "code",
   "execution_count": 14,
   "metadata": {},
   "outputs": [
    {
     "name": "stdout",
     "output_type": "stream",
     "text": [
      "3\n",
      "15 17 20\n",
      "2\n",
      "15 52 33\n",
      "0---- 1\n",
      "15 32 23\n",
      "0---- -1\n",
      "24 32 28\n",
      "0---- -1\n",
      "29 32 30\n",
      "0---- -1\n",
      "31 32 31\n",
      "0---- -1\n",
      "32 32 32\n",
      "0---- 1\n",
      "32\n"
     ]
    }
   ],
   "source": [
    "# Allocate minimum number of pages\n",
    "\n",
    "# look for all possible sum of pages if they can be distrubuted to each student without crossing that sum of page barrier\n",
    "# apply binary search in range pages[0]...sum(pages) \n",
    "# much similar to above problem\n",
    "def ifSuchCombiPoss(mid,pages,students):\n",
    "    cnt=1\n",
    "    tempSum=0\n",
    "    for i in range(len(pages)):\n",
    "        if pages[i]>mid:\n",
    "            return -1\n",
    "        if tempSum+pages[i]>mid:\n",
    "            cnt+=1\n",
    "            tempSum=pages[i]\n",
    "        else:\n",
    "            tempSum+=pages[i]\n",
    "    if cnt<=students:\n",
    "        return 1\n",
    "    else:\n",
    "        return -1\n",
    "            \n",
    "n=int(input())\n",
    "pages=list(map(int,input().split()))\n",
    "students=int(input())\n",
    "pages.sort()\n",
    "low=pages[0]\n",
    "high=sum(pages)\n",
    "\n",
    "while(low<=high):\n",
    "    mid=low+((high-low)//2)\n",
    "#     print(low,high,mid)\n",
    "    ret=ifSuchCombiPoss(mid,pages,students)\n",
    "#     print(\"0----\",ret)\n",
    "    if ret==-1:\n",
    "        low=mid+1\n",
    "    else:\n",
    "        ans=mid\n",
    "        high=mid-1\n",
    "print(ans)"
   ]
  },
  {
   "cell_type": "code",
   "execution_count": 10,
   "metadata": {},
   "outputs": [
    {
     "data": {
      "text/plain": [
       "203"
      ]
     },
     "execution_count": 10,
     "metadata": {},
     "output_type": "execute_result"
    }
   ],
   "source": [
    "#EKOSPOJ\n",
    "# Apply binary search on all possible heights of cutter and check if that height can meet the req wood cut target, accordingly\n",
    "# set the value of low and high in binary search\n",
    "\n",
    "def isCurrentHeightAchievesTarget(heigths,req_height,cur_height):\n",
    "    totalCutAmt=0\n",
    "    for i in range(len(heigths)):\n",
    "        totalCutAmt+=max(0,heigths[i]-cur_height)\n",
    "    if totalCutAmt==req_height:\n",
    "        return 1\n",
    "    elif totalCutAmt<req_height:\n",
    "        return 2\n",
    "    else:\n",
    "        return 3\n",
    "        \n",
    "n, req_height=map(int,input().split())\n",
    "heights=list(map(int,input().split()))\n",
    "heights.sort()\n",
    "low=0\n",
    "high=heights[-1]\n",
    "ans=0\n",
    "while(low<=high):\n",
    "    mid=low+((high-low)//2)\n",
    "    ret=isCurrentHeightAchievesTarget(heights,req_height,mid)\n",
    "    if ret==1:\n",
    "        ans=mid\n",
    "        low=mid+1\n",
    "    elif ret==2:\n",
    "        high=mid-1\n",
    "    else:\n",
    "        low=mid+1\n",
    "print(ans)"
   ]
  },
  {
   "cell_type": "code",
   "execution_count": 3,
   "metadata": {},
   "outputs": [
    {
     "name": "stdout",
     "output_type": "stream",
     "text": [
      "36\n",
      "150\n"
     ]
    }
   ],
   "source": [
    "# smallest factorial number\n",
    "# max no possible with n trailing zeroes = 5*n \n",
    "# apply binary search in range [0,5*n]\n",
    "\n",
    "def findTrailingZeroes(n):\n",
    "    temp=5\n",
    "    zeroes=0\n",
    "    while(n//temp>0):\n",
    "        zeroes+=n//temp\n",
    "        temp*=5\n",
    "    return zeroes\n",
    "\n",
    "n=int(input())\n",
    "high=5*n\n",
    "low=0\n",
    "ans=0\n",
    "while(low<=high):\n",
    "    mid=low+((high-low)//2)\n",
    "    ret=findTrailingZeroes(mid)\n",
    "    if ret>n:\n",
    "        ans=mid\n",
    "        high=mid-1\n",
    "    elif ret<n:\n",
    "        low=mid+1\n",
    "    else:\n",
    "        ans=mid\n",
    "        high=mid-1\n",
    "print(ans)"
   ]
  },
  {
   "cell_type": "code",
   "execution_count": 13,
   "metadata": {},
   "outputs": [
    {
     "name": "stdout",
     "output_type": "stream",
     "text": [
      "2\n",
      "2 2 2 8 8 8 1 1 4 4 5\n",
      "1 1 2 2 2 4 4 5 8 8 8 "
     ]
    }
   ],
   "source": [
    "# Partitioning and Sorting Arrays with Many Repeated Entries\n",
    "\n",
    "n=int(input())\n",
    "list1=list(map(int,input().split()))\n",
    "dict1={}\n",
    "for i in range(len(list1)):\n",
    "    try:\n",
    "        dict1[list1[i]]+=1\n",
    "    except:\n",
    "        dict1[list1[i]]=1\n",
    "\n",
    "list2=sorted(dict1)\n",
    "\n",
    "for i in list2:\n",
    "    print((str(i)+\" \")*dict1[i],end=\"\")"
   ]
  },
  {
   "cell_type": "code",
   "execution_count": null,
   "metadata": {},
   "outputs": [],
   "source": [
    "2 2 2 8 8 8 1 1 4 4 5"
   ]
  }
 ],
 "metadata": {
  "kernelspec": {
   "display_name": "Python 3",
   "language": "python",
   "name": "python3"
  },
  "language_info": {
   "codemirror_mode": {
    "name": "ipython",
    "version": 3
   },
   "file_extension": ".py",
   "mimetype": "text/x-python",
   "name": "python",
   "nbconvert_exporter": "python",
   "pygments_lexer": "ipython3",
   "version": "3.7.4"
  }
 },
 "nbformat": 4,
 "nbformat_minor": 4
}
